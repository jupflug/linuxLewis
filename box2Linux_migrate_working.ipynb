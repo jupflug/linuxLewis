{
 "cells": [
  {
   "cell_type": "code",
   "execution_count": 1,
   "metadata": {},
   "outputs": [],
   "source": [
    "from boxMigrate import boxMigrate\n",
    "\n",
    "from pyproj import Proj\n",
    "from pandas import DataFrame\n",
    "import numpy as np\n",
    "\n",
    "id = '4stt8wd7hn5c19obxhh2kpnf7419pni6'\n",
    "secret = 'UfS1HnLjbgGeQuh4dtIXBJRT2kVdQC4M'\n",
    "token = 'jcpcyiRenGeMOBoxLPLBDOcCHCOYqhL7'\n",
    "\n",
    "target_dir = 'Rocky_Pflug'\n",
    "\n",
    "subdirs = ['N40_0W106_0_agg_16','CV_weights','WY2020']\n",
    "\n",
    "out_path = '/scratch/summit/jupf7869/500m/'\n",
    "\n",
    "keys = ['B_Prior','CV_Prior','CVis_Prior','Weights']\n",
    "\n",
    "xMin = 410000; xMax = 463500\n",
    "yMin = 4414000; yMax = 4495000"
   ]
  },
  {
   "cell_type": "code",
   "execution_count": 2,
   "metadata": {},
   "outputs": [],
   "source": [
    "x = [xMin, xMax, xMax, xMin]\n",
    "y = [yMin, yMin, yMax, yMax]\n",
    "df = DataFrame(np.c_[x,y],columns = ['Meters East','Meters South'])\n",
    "project = Proj(\"+proj=utm +zone=13N\")\n",
    "\n",
    "lon, lat = project(df['Meters East'].values, df['Meters South'].values,\n",
    "                  inverse=True)"
   ]
  },
  {
   "cell_type": "code",
   "execution_count": 3,
   "metadata": {},
   "outputs": [
    {
     "name": "stdout",
     "output_type": "stream",
     "text": [
      "<Box Folder - 142427205005 (Rocky_Pflug)>\n"
     ]
    }
   ],
   "source": [
    "client, root_directory = boxMigrate.target_directory(id,secret,token,target_dir)\n",
    "print(root_directory)"
   ]
  },
  {
   "cell_type": "code",
   "execution_count": 4,
   "metadata": {},
   "outputs": [
    {
     "name": "stdout",
     "output_type": "stream",
     "text": [
      "/scratch/summit/jupf7869/500m/N40_0W106_0_agg_16_B_CV_CVis_PRIOR_WY2019_20.nc\n",
      "B_Prior\n",
      "Replicate_number\n",
      "Longitude\n",
      "Latitude\n",
      "CV_Prior\n",
      "Replicate_number\n",
      "Already created this dimension\n",
      "Longitude\n",
      "Latitude\n",
      "CVis_Prior\n",
      "Replicate_number\n",
      "Already created this dimension\n",
      "Longitude\n",
      "Latitude\n",
      "Weights\n",
      "/scratch/summit/jupf7869/500m/N40_0W106_0_agg_16_WEIGHTS_WY2019_20.nc\n",
      "B_Prior\n",
      "CV_Prior\n",
      "CVis_Prior\n",
      "Weights\n",
      "Replicate_number\n",
      "Longitude\n",
      "Latitude\n"
     ]
    }
   ],
   "source": [
    "test = boxMigrate.download_data(root_directory,subdirs,client,out_path,\n",
    "                         filter='latlon',lon = lon,lat = lat,keys = keys)"
   ]
  },
  {
   "cell_type": "code",
   "execution_count": 5,
   "metadata": {},
   "outputs": [
    {
     "name": "stdout",
     "output_type": "stream",
     "text": [
      "B_Prior,CV_Prior,CVis_Prior\n"
     ]
    }
   ],
   "source": [
    "for key in keys:\n",
    "    print(key)"
   ]
  },
  {
   "cell_type": "code",
   "execution_count": 5,
   "metadata": {},
   "outputs": [],
   "source": [
    "import netCDF4 as nc\n",
    "dset = nc.Dataset('/scratch/summit/jupf7869/500m/N40_0W106_0_agg_16_WEIGHTS_WY2019_20_filt.nc')"
   ]
  },
  {
   "cell_type": "code",
   "execution_count": 6,
   "metadata": {},
   "outputs": [
    {
     "name": "stdout",
     "output_type": "stream",
     "text": [
      "<class 'netCDF4._netCDF4.Dataset'>\n",
      "root group (NETCDF4_CLASSIC data model, file format HDF5):\n",
      "    dimensions(sizes): Longitude(129), Latitude(138), Replicate_number(50)\n",
      "    variables(dimensions): float32 Longitude(Longitude), float32 Latitude(Latitude), float32 Weights(Replicate_number, Longitude, Latitude)\n",
      "    groups: \n"
     ]
    }
   ],
   "source": [
    "# %matplotlib inline\n",
    "# import matplotlib.pyplot as plt\n",
    "# plt.imshow(dset['CV_Prior'][20,:,:])\n",
    "print(dset)"
   ]
  },
  {
   "cell_type": "code",
   "execution_count": 23,
   "metadata": {},
   "outputs": [
    {
     "name": "stdout",
     "output_type": "stream",
     "text": [
      "Replicate_number\n"
     ]
    }
   ],
   "source": [
    "dims = dset['B_Prior'].dimensions\n",
    "for dim in dims:\n",
    "    if (dim != 'Latitude') & (dim != 'Longitude'):\n",
    "        print(dim)"
   ]
  },
  {
   "cell_type": "code",
   "execution_count": 53,
   "metadata": {},
   "outputs": [
    {
     "name": "stdout",
     "output_type": "stream",
     "text": [
      "(50, 3, 225)\n"
     ]
    }
   ],
   "source": [
    "temp = dset['B_Prior'][:]\n",
    "# temp = temp[:,0,0]\n",
    "print(temp.take(indices=range(0,3),axis=1).shape)"
   ]
  },
  {
   "cell_type": "code",
   "execution_count": 38,
   "metadata": {},
   "outputs": [
    {
     "data": {
      "text/plain": [
       "225"
      ]
     },
     "execution_count": 38,
     "metadata": {},
     "output_type": "execute_result"
    }
   ],
   "source": [
    "dset['B_Prior"
   ]
  },
  {
   "cell_type": "code",
   "execution_count": null,
   "metadata": {},
   "outputs": [],
   "source": [
    "import os\n",
    "os.path.splitext(test)[0]+'_filt.nc'"
   ]
  },
  {
   "cell_type": "code",
   "execution_count": 6,
   "metadata": {},
   "outputs": [
    {
     "name": "stdout",
     "output_type": "stream",
     "text": [
      "Object ` close` not found.\n"
     ]
    }
   ],
   "source": [
    "? close"
   ]
  },
  {
   "cell_type": "code",
   "execution_count": 10,
   "metadata": {},
   "outputs": [
    {
     "name": "stdout",
     "output_type": "stream",
     "text": [
      "<class 'netCDF4._netCDF4.Dataset'>\n",
      "root group (NETCDF4_CLASSIC data model, file format HDF5):\n",
      "    dimensions(sizes): Longitude(129), Latitude(138), Day(366), Stats(5)\n",
      "    variables(dimensions): float32 SWE_Post(Day, Stats, Longitude, Latitude), float32 SCA_Post(Day, Stats, Longitude, Latitude)\n",
      "    groups: \n"
     ]
    }
   ],
   "source": [
    "import netCDF4 as nc\n",
    "temp = nc.Dataset('/scratch/summit/jupf7869/500m/N40_0W106_0_agg_16_SWE_SCA_POST_WY2019_20_filt.nc')\n",
    "print(temp)\n",
    "# temp.close()"
   ]
  },
  {
   "cell_type": "code",
   "execution_count": 15,
   "metadata": {},
   "outputs": [
    {
     "data": {
      "text/plain": [
       "<matplotlib.colorbar.Colorbar at 0x2afc60f09fa0>"
      ]
     },
     "execution_count": 15,
     "metadata": {},
     "output_type": "execute_result"
    },
    {
     "data": {
      "image/png": "[encoded data removed]",
      "text/plain": [
       "<Figure size 432x288 with 2 Axes>"
      ]
     },
     "metadata": {
      "needs_background": "light"
     },
     "output_type": "display_data"
    }
   ],
   "source": [
    "import matplotlib.pyplot as plt\n",
    "plt.imshow(temp['SWE_Post'][190,2,:,:].T)\n",
    "plt.colorbar()"
   ]
  },
  {
   "cell_type": "code",
   "execution_count": 9,
   "metadata": {},
   "outputs": [
    {
     "name": "stdout",
     "output_type": "stream",
     "text": [
      "<class 'netCDF4._netCDF4.Dataset'>\n",
      "root group (NETCDF4_CLASSIC data model, file format HDF5):\n",
      "    dimensions(sizes): Stats(5), Latitude(225), Longitude(225), Day(366)\n",
      "    variables(dimensions): float32 Latitude(Latitude), float32 Longitude(Longitude), float32 SWE_Post(Day, Stats, Longitude, Latitude), float32 SCA_Post(Day, Stats, Longitude, Latitude)\n",
      "    groups: \n"
     ]
    }
   ],
   "source": [
    "import netCDF4 as nc\n",
    "temp2 = nc.Dataset('/scratch/summit/jupf7869/500m/N40_0W106_0_agg_16_SWE_SCA_POST_WY2019_20.nc')\n",
    "print(temp2)\n",
    "# temp.close()"
   ]
  },
  {
   "cell_type": "code",
   "execution_count": 7,
   "metadata": {},
   "outputs": [],
   "source": [
    "ds = nc.Dataset('whatswrong.nc','w',format='NETCDF4')"
   ]
  },
  {
   "cell_type": "code",
   "execution_count": 9,
   "metadata": {},
   "outputs": [],
   "source": [
    "Day = ds.createVariable('SWE_Post',\n"
   ]
  },
  {
   "cell_type": "code",
   "execution_count": 8,
   "metadata": {},
   "outputs": [
    {
     "ename": "IndexError",
     "evalue": "Longitude not found in /",
     "output_type": "error",
     "traceback": [
      "\u001b[0;31m---------------------------------------------------------------------------\u001b[0m",
      "\u001b[0;31mIndexError\u001b[0m                                Traceback (most recent call last)",
      "\u001b[0;32m<ipython-input-8-310b8c47bc84>\u001b[0m in \u001b[0;36m<module>\u001b[0;34m\u001b[0m\n\u001b[0;32m----> 1\u001b[0;31m \u001b[0mprint\u001b[0m\u001b[0;34m(\u001b[0m\u001b[0mds\u001b[0m\u001b[0;34m[\u001b[0m\u001b[0;34m'Longitude'\u001b[0m\u001b[0;34m]\u001b[0m\u001b[0;34m[\u001b[0m\u001b[0;34m:\u001b[0m\u001b[0;34m]\u001b[0m\u001b[0;34m)\u001b[0m\u001b[0;34m\u001b[0m\u001b[0;34m\u001b[0m\u001b[0m\n\u001b[0m\u001b[1;32m      2\u001b[0m \u001b[0mvalue\u001b[0m \u001b[0;34m=\u001b[0m \u001b[0mds\u001b[0m\u001b[0;34m[\u001b[0m\u001b[0;34m'SWE_Post'\u001b[0m\u001b[0;34m]\u001b[0m\u001b[0;34m[\u001b[0m\u001b[0;34m:\u001b[0m\u001b[0;34m,\u001b[0m\u001b[0;34m:\u001b[0m\u001b[0;34m,\u001b[0m\u001b[0;34m:\u001b[0m\u001b[0;34m,\u001b[0m\u001b[0;34m:\u001b[0m\u001b[0;34m]\u001b[0m\u001b[0;34m\u001b[0m\u001b[0;34m\u001b[0m\u001b[0m\n\u001b[1;32m      3\u001b[0m \u001b[0mprint\u001b[0m\u001b[0;34m(\u001b[0m\u001b[0mvalue\u001b[0m\u001b[0;34m)\u001b[0m\u001b[0;34m\u001b[0m\u001b[0;34m\u001b[0m\u001b[0m\n",
      "\u001b[0;32msrc/netCDF4/_netCDF4.pyx\u001b[0m in \u001b[0;36mnetCDF4._netCDF4.Dataset.__getitem__\u001b[0;34m()\u001b[0m\n",
      "\u001b[0;31mIndexError\u001b[0m: Longitude not found in /"
     ]
    }
   ],
   "source": [
    "print(ds['Longitude'][:])\n",
    "value = ds['SWE_Post'][:,:,:,:]\n",
    "print(value)"
   ]
  },
  {
   "cell_type": "code",
   "execution_count": null,
   "metadata": {},
   "outputs": [],
   "source": [
    "# prerequisites: \n",
    "# * install python-box software development kit (SDK) (https://developer.box.com/guides/tooling/sdks/python/)\n",
    "# * create a development application in box profile\n",
    "# * pull the client id, client secret from the development application and generate an access token\n",
    "# * fill out the user-defined entries below\n",
    "from boxsdk import OAuth2, Client"
   ]
  },
  {
   "cell_type": "code",
   "execution_count": null,
   "metadata": {},
   "outputs": [],
   "source": [
    "# box developer authorization information\n",
    "auth = OAuth2(client_id='4stt8wd7hn5c19obxhh2kpnf7419pni6',\n",
    "              client_secret='UfS1HnLjbgGeQuh4dtIXBJRT2kVdQC4M',\n",
    "              access_token='wpdy3jvwBAeuR1GtfLbkr9wDh9ThgLc6')\n",
    "# directory to download files from (must be in the root directory)\n",
    "target_dir = 'Rocky_Pflug'\n",
    "# number of subdirectories (best-practice to set over the number)\n",
    "num_subdir = 3\n",
    "# destination directory to download to\n",
    "out = '/scratch/summit/jupf7869/'"
   ]
  },
  {
   "cell_type": "code",
   "execution_count": null,
   "metadata": {},
   "outputs": [],
   "source": [
    "# working code\n",
    "# do: iterative loop with while < num_subdir and tries \n",
    "# do: output to destination directory\n",
    "\n",
    "client = Client(auth)\n",
    "\n",
    "root_folder = client.root_folder().get()\n",
    "directories = root_folder.get_items()\n",
    "for directory in directories:\n",
    "    if directory.name == 'Rocky_Pflug':\n",
    "        tiles = directory.get_items()\n",
    "        for tile in tiles:\n",
    "            years = tile.get_items()\n",
    "            for year in years:\n",
    "                dsets = year.get_items()\n",
    "                for dset in dsets:\n",
    "                    print(dset.name)\n",
    "                    with open(dset.name,'wb') as open_file:\n",
    "                        client.file(dset.id).download_to(open_file)\n",
    "                break\n",
    "            break\n",
    "        break"
   ]
  },
  {
   "cell_type": "code",
   "execution_count": null,
   "metadata": {},
   "outputs": [],
   "source": []
  },
  {
   "cell_type": "code",
   "execution_count": null,
   "metadata": {},
   "outputs": [],
   "source": []
  },
  {
   "cell_type": "code",
   "execution_count": null,
   "metadata": {},
   "outputs": [],
   "source": [
    "from boxMigrate import box2Linux\n",
    "box2Linux('wpdy3jvwBAeuR1GtfLbkr9wDh9ThgLc6') "
   ]
  },
  {
   "cell_type": "code",
   "execution_count": null,
   "metadata": {},
   "outputs": [],
   "source": [
    "! pwd"
   ]
  },
  {
   "cell_type": "code",
   "execution_count": null,
   "metadata": {},
   "outputs": [],
   "source": [
    "import boxMigrate"
   ]
  },
  {
   "cell_type": "code",
   "execution_count": null,
   "metadata": {},
   "outputs": [],
   "source": [
    "boxMigrate.box2Linux('wpdy3jvwBAeuR1GtfLbkr9wDh9ThgLc6')"
   ]
  },
  {
   "cell_type": "code",
   "execution_count": null,
   "metadata": {},
   "outputs": [],
   "source": [
    "import boxMigrate"
   ]
  },
  {
   "cell_type": "code",
   "execution_count": null,
   "metadata": {},
   "outputs": [],
   "source": [
    "boxMigrate.boxMigrate.box2Linux('dXLB7F9arNYBD3H4THLLAu0raevpYaWU')"
   ]
  },
  {
   "cell_type": "code",
   "execution_count": null,
   "metadata": {},
   "outputs": [],
   "source": [
    "from pyproj import Proj\n",
    "from pandas import DataFrame\n",
    "import numpy as np"
   ]
  },
  {
   "cell_type": "code",
   "execution_count": null,
   "metadata": {},
   "outputs": [],
   "source": [
    "# for filtering based on lat lonx\n",
    "xMin = 410000; xMax = 463500\n",
    "yMin = 4414000; yMax = 4495000\n",
    "x = [xMin, xMax, xMax, xMin]\n",
    "y = [yMin, yMin, yMax, yMax]\n",
    "df = DataFrame(np.c_[x,y],columns = ['Meters East','Meters South'])\n",
    "project = Proj(\"+proj=utm +zone=13N\")\n",
    "\n",
    "lon, lat = project(df['Meters East'].values, df['Meters South'].values,\n",
    "                  inverse=True)"
   ]
  },
  {
   "cell_type": "code",
   "execution_count": null,
   "metadata": {},
   "outputs": [],
   "source": [
    "lonx = [];laty = [];\n",
    "idx = np.abs(dset['Longitude'][:] - lon.min()).argmin()\n",
    "if idx > 0:\n",
    "    idx = idx - 1\n",
    "lonx.append(idx)\n",
    "idx = np.abs(dset['Longitude'][:] - lon.max()).argmin()\n",
    "if idx < len(dset['Longitude'][:]):\n",
    "    idx = idx + 1\n",
    "lonx.append(idx)\n",
    "print(lonx)\n",
    "\n",
    "idx = np.abs(dset['Latitude'][:] - lat.min()).argmin()\n",
    "if idx < len(dset['Latitude'[:]]):\n",
    "    idx = idx + 1\n",
    "laty.append(idx)\n",
    "idx = np.abs(dset['Latitude'][:] - lat.max()).argmin()\n",
    "if idx > 0:\n",
    "    idx = idx - 1\n",
    "laty.append(idx)\n",
    "print(laty)"
   ]
  },
  {
   "cell_type": "code",
   "execution_count": null,
   "metadata": {},
   "outputs": [],
   "source": [
    "print(dset)"
   ]
  },
  {
   "cell_type": "code",
   "execution_count": null,
   "metadata": {},
   "outputs": [],
   "source": [
    "plt.imshow(dset['Ta_Post'][150,lonx[0]:lonx[1],laty[1]:laty[0]].T,vmin=255,vmax=275)\n",
    "plt.colorbar()"
   ]
  },
  {
   "cell_type": "code",
   "execution_count": null,
   "metadata": {},
   "outputs": [],
   "source": [
    "# create netcdf file from pandas dataset\n",
    "ds = nc.Dataset('file2.nc','w',format='NETCDF4')\n",
    "Day = ds.createDimension('Day',len(dset['Ta_Post'][:,1,1]))\n",
    "Longitude = ds.createDimension('Longitude',lonx[1]-lonx[0])\n",
    "Latitude = ds.createDimension('Latitude',laty[0]-laty[1])"
   ]
  },
  {
   "cell_type": "code",
   "execution_count": null,
   "metadata": {},
   "outputs": [],
   "source": [
    "Ta_Post = ds.createVariable('Ta_Post', 'f4', ('Day','Longitude','Latitude',))\n",
    "PPT_Post = ds.createVariable('PPT_Post', 'f4', ('Day','Longitude','Latitude',))\n",
    "\n",
    "# Longitude[:] = np.array(dset['Longitude'][lonx[0]:lonx[1]])\n",
    "# Latitude[:] = dset['Latitude'][laty[1]:laty[0]]\n",
    "Ta_Post[:,:,:] = dset['Ta_Post'][:,lonx[0]:lonx[1],laty[1]:laty[0]]\n",
    "PPT_Post[:,:,:] = dset['PPT_Post'][:,lonx[0]:lonx[1],laty[1]:laty[0]]\n",
    "\n",
    "ds.close()"
   ]
  },
  {
   "cell_type": "code",
   "execution_count": null,
   "metadata": {},
   "outputs": [],
   "source": [
    "ds.close()"
   ]
  },
  {
   "cell_type": "code",
   "execution_count": null,
   "metadata": {},
   "outputs": [],
   "source": [
    "temp = nc.Dataset('file2.nc')\n",
    "# print(temp['Ta_Post'][:])\n",
    "\n",
    "# temp.close()"
   ]
  },
  {
   "cell_type": "code",
   "execution_count": null,
   "metadata": {},
   "outputs": [],
   "source": [
    "plt.imshow(temp['Ta_Post'][100,:,:],vmin=255)"
   ]
  },
  {
   "cell_type": "code",
   "execution_count": null,
   "metadata": {},
   "outputs": [],
   "source": []
  },
  {
   "cell_type": "code",
   "execution_count": null,
   "metadata": {},
   "outputs": [],
   "source": [
    "from boxMigrate import boxMigrate\n",
    "\n",
    "id = '4stt8wd7hn5c19obxhh2kpnf7419pni6'\n",
    "secret = 'UfS1HnLjbgGeQuh4dtIXBJRT2kVdQC4M'\n",
    "token = 'OqdobmH4dcEwVQjImbUn4uCiYX2hCNCS'\n",
    "\n",
    "target_dir = 'Rocky_Pflug'\n",
    "\n",
    "subdirs = ['N40_0W106_0_agg_16','WY2020']\n",
    "\n",
    "out_path = '/scratch/summit/jupf7869/500m/'"
   ]
  },
  {
   "cell_type": "code",
   "execution_count": null,
   "metadata": {},
   "outputs": [],
   "source": [
    "client, root_directory = boxMigrate.target_directory(id,secret,token,target_dir)\n",
    "print(root_directory)"
   ]
  },
  {
   "cell_type": "code",
   "execution_count": null,
   "metadata": {},
   "outputs": [],
   "source": [
    "boxMigrate.download_data(root_directory,subdirs,client,out_path)"
   ]
  },
  {
   "cell_type": "code",
   "execution_count": null,
   "metadata": {},
   "outputs": [],
   "source": [
    "def filtNC(dset,keys,**kwargs):\n",
    "    if kwargs.get('filter', None) == 'latlon':\n",
    "        lon = kwargs.get('lon')\n",
    "        lat = kwargs.get('lat')\n",
    "        \n",
    "        lonx = [];laty = [];\n",
    "        idx = np.abs(dset['Longitude'][:] - lon.min()).argmin()\n",
    "        if idx > 0:\n",
    "            idx = idx - 1\n",
    "        lonx.append(idx)\n",
    "        idx = np.abs(dset['Longitude'][:] - lon.max()).argmin()\n",
    "        if idx < len(dset['Longitude'][:]):\n",
    "            idx = idx + 1\n",
    "        lonx.append(idx)\n",
    "#         print(lonx)\n",
    "\n",
    "        idx = np.abs(dset['Latitude'][:] - lat.min()).argmin()\n",
    "        if idx < len(dset['Latitude'[:]]):\n",
    "            idx = idx + 1\n",
    "        laty.append(idx)\n",
    "        idx = np.abs(dset['Latitude'][:] - lat.max()).argmin()\n",
    "        if idx > 0:\n",
    "            idx = idx - 1\n",
    "        laty.append(idx)\n",
    "#         print(laty)\n",
    "        \n",
    "        ds = nc.Dataset('outfile2.nc','w',format='NETCDF4')\n",
    "        Day = ds.createDimension('Day',len(dset['Ta_Post'][:,1,1]))\n",
    "        Longitude = ds.createDimension('Longitude',lonx[1]-lonx[0])\n",
    "        Latitude = ds.createDimension('Latitude',laty[0]-laty[1])\n",
    "        \n",
    "        for key in keys:\n",
    "            var = ds.createVariable(key, 'f4', ('Day', 'Longitude', 'Latitude',))\n",
    "            var[:,:,:] = dset[key][:,lonx[0]:lonx[1],laty[1]:laty[0]]\n",
    "        \n",
    "#         Longitude = ds.createVariable('Longitude', 'f4', ('Longitude',))\n",
    "#         Latitude = ds.createVariable('Latitude', 'f4', ('Latitude',))\n",
    "#         Ta_Post = ds.createVariable('Ta_Post', 'f4', ('Day','Longitude','Latitude',))\n",
    "#         PPT_Post = ds.createVariable('PPT_Post', 'f4', ('Day','Longitude','Latitude',))\n",
    "        \n",
    "\n",
    "#         Longitude[:] = np.array(dset['Longitude'][lonx[0]:lonx[1]])\n",
    "#         Latitude[:] = dset['Latitude'][laty[1]:laty[0]]\n",
    "#         Ta_Post[:,:,:] = dset['Ta_Post'][:,lonx[0]:lonx[1],laty[1]:laty[0]]\n",
    "#         PPT_Post[:,:,:] = dset['PPT_Post'][:,lonx[0]:lonx[1],laty[1]:laty[0]]\n",
    "\n",
    "        ds.close()\n",
    "    return"
   ]
  },
  {
   "cell_type": "code",
   "execution_count": null,
   "metadata": {},
   "outputs": [],
   "source": [
    "from pyproj import Proj\n",
    "from pandas import DataFrame\n",
    "import numpy as np\n",
    "\n",
    "# for filtering based on lat lonx\n",
    "xMin = 410000; xMax = 463500\n",
    "yMin = 4414000; yMax = 4495000\n",
    "x = [xMin, xMax, xMax, xMin]\n",
    "y = [yMin, yMin, yMax, yMax]\n",
    "df = DataFrame(np.c_[x,y],columns = ['Meters East','Meters South'])\n",
    "project = Proj(\"+proj=utm +zone=13N\")\n",
    "\n",
    "lon, lat = project(df['Meters East'].values, df['Meters South'].values,\n",
    "                  inverse=True)"
   ]
  },
  {
   "cell_type": "code",
   "execution_count": 8,
   "metadata": {},
   "outputs": [
    {
     "name": "stdout",
     "output_type": "stream",
     "text": [
      "<class 'netCDF4._netCDF4.Dataset'>\n",
      "root group (NETCDF4_CLASSIC data model, file format HDF5):\n",
      "    dimensions(sizes): Latitude(225), Longitude(225), Day(366)\n",
      "    variables(dimensions): float32 Latitude(Latitude), float32 Longitude(Longitude), float32 Ta_Post(Day, Longitude, Latitude), float32 Rs_Post(Day, Longitude, Latitude), float32 Rl_Post(Day, Longitude, Latitude), float32 Ps_Post(Day, Longitude, Latitude), float32 PPT_Post(Day, Longitude, Latitude), float32 q_Post(Day, Longitude, Latitude), float32 wind_Post(Day, Longitude, Latitude)\n",
      "    groups: \n"
     ]
    }
   ],
   "source": [
    "import netCDF4 as nc\n",
    "dset = nc.Dataset(out_path+'N40_0W106_0_agg_16_FORCING_POST_WY2019_20.nc')\n",
    "\n",
    "print(dset)\n",
    "\n",
    "# keys = ['Ta_Post','PPT_Post']\n",
    "# filtNC(dset,keys,filter = 'latlon',lat = lat,lon = lon)"
   ]
  },
  {
   "cell_type": "code",
   "execution_count": null,
   "metadata": {},
   "outputs": [],
   "source": [
    "dset = nc.Dataset('outfile2.nc')\n",
    "print(dset)\n",
    "dset.close()"
   ]
  },
  {
   "cell_type": "code",
   "execution_count": null,
   "metadata": {},
   "outputs": [],
   "source": [
    "import matplotlib.pyplot as plt\n",
    "? plt.imshow"
   ]
  },
  {
   "cell_type": "code",
   "execution_count": null,
   "metadata": {},
   "outputs": [],
   "source": []
  },
  {
   "cell_type": "code",
   "execution_count": null,
   "metadata": {},
   "outputs": [],
   "source": [
    "# thin data by lat lon\n",
    "\n",
    "import netCDF4 as nc\n",
    "import matplotlib.pyplot as plt\n",
    "\n",
    "dset = nc.Dataset(out_path+'N40_0W106_0_agg_16_FORCING_POST_WY2019_20.nc')\n",
    "\n",
    "# plt.imshow(dset[''])"
   ]
  },
  {
   "cell_type": "code",
   "execution_count": null,
   "metadata": {},
   "outputs": [],
   "source": [
    "extent=[dset['Longitude'][:].min(),dset['Longitude'][:].max(),\n",
    "        dset['Latitude'][:].min(),dset['Latitude'][:].max()]\n",
    "plt.imshow(dset['Ta_Post'][150,:,:].T,vmin=255,vmax=275,extent=extent)\n",
    "plt.colorbar()"
   ]
  },
  {
   "cell_type": "code",
   "execution_count": null,
   "metadata": {},
   "outputs": [],
   "source": []
  },
  {
   "cell_type": "code",
   "execution_count": null,
   "metadata": {},
   "outputs": [],
   "source": [
    "from sentinelhub import SHConfig\n",
    "\n",
    "config = SHConfig()\n",
    "\n",
    "config.instance_id = 'cc0bd2d9-8615-4e55-bccf-3c396213fcda'\n",
    "config.sh_client_id = '6b7faac4-da96-464f-930f-9960c842e991'\n",
    "config.sh_client_secret = 'I@;o13-,*c?3#&YE^Up.!>7M!Au]U:zeCO~.3G^y'\n",
    "\n",
    "config.save()\n",
    "\n",
    "resolution = 60\n",
    "betsiboka_coords_wgs84 = [dset['Longitude'][:].min(),dset['Latitude'][:].min(),\n",
    "                          dset['Longitude'][:].max(), dset['Latitude'][:].max()]\n",
    "betsiboka_bbox = BBox(bbox=betsiboka_coords_wgs84, crs=CRS.WGS84)\n",
    "betsiboka_size = bbox_to_dimensions(betsiboka_bbox, resolution=resolution)\n",
    "time_interval = ('2019-06-01', '2020-06-30')"
   ]
  },
  {
   "cell_type": "code",
   "execution_count": null,
   "metadata": {},
   "outputs": [],
   "source": [
    "from sentinelhub import MimeType, CRS, BBox, SentinelHubRequest, SentinelHubDownloadClient, \\\n",
    "    DataCollection, bbox_to_dimensions, DownloadRequest\n",
    "from sentinelhub import SHConfig\n",
    "# from utils import plot_image\n",
    "\n",
    "# config = SHConfig()\n",
    "evalscript_true_color = \"\"\"\n",
    "    //VERSION=3\n",
    "\n",
    "    function setup() {\n",
    "        return {\n",
    "            input: [{\n",
    "                bands: [\"B02\", \"B03\", \"B04\"]\n",
    "            }],\n",
    "            output: {\n",
    "                bands: 3\n",
    "            }\n",
    "        };\n",
    "    }\n",
    "\n",
    "    function evaluatePixel(sample) {\n",
    "        return [sample.B04, sample.B03, sample.B02];\n",
    "    }\n",
    "\"\"\"\n",
    "\n",
    "request_true_color = SentinelHubRequest(\n",
    "    evalscript=evalscript_true_color,\n",
    "    input_data=[\n",
    "        SentinelHubRequest.input_data(\n",
    "            data_collection=DataCollection.SENTINEL2_L1C,\n",
    "            time_interval=time_interval,\n",
    "            mosaicking_order='leastCC'\n",
    "        )\n",
    "    ],\n",
    "    responses=[\n",
    "        SentinelHubRequest.output_response('default', MimeType.PNG)\n",
    "    ],\n",
    "    bbox=betsiboka_bbox,\n",
    "    size=betsiboka_size,\n",
    "    config=config\n",
    ")\n",
    "# plot_image(request_true_color.get_data()[0], factor=3.5/255, clip_range=(0,1))\n"
   ]
  },
  {
   "cell_type": "code",
   "execution_count": null,
   "metadata": {},
   "outputs": [],
   "source": [
    "temp = request_true_color.get_data()[0]"
   ]
  },
  {
   "cell_type": "code",
   "execution_count": null,
   "metadata": {},
   "outputs": [],
   "source": [
    "import numpy as np\n",
    "plt.imshow(np.add(temp,35))\n",
    "plt.colorbar()"
   ]
  },
  {
   "cell_type": "code",
   "execution_count": null,
   "metadata": {},
   "outputs": [],
   "source": [
    "directories = folder.get_items()\n",
    "print(directories)"
   ]
  },
  {
   "cell_type": "code",
   "execution_count": null,
   "metadata": {},
   "outputs": [],
   "source": [
    "for directory in directories:\n",
    "    print(directory)"
   ]
  },
  {
   "cell_type": "code",
   "execution_count": null,
   "metadata": {},
   "outputs": [],
   "source": [
    "? plt.imshow"
   ]
  },
  {
   "cell_type": "code",
   "execution_count": null,
   "metadata": {},
   "outputs": [],
   "source": [
    "? imadd"
   ]
  },
  {
   "cell_type": "code",
   "execution_count": null,
   "metadata": {},
   "outputs": [],
   "source": []
  }
 ],
 "metadata": {
  "kernelspec": {
   "display_name": "box2linux_migrate",
   "language": "python",
   "name": "box2linux_migrate"
  },
  "language_info": {
   "codemirror_mode": {
    "name": "ipython",
    "version": 3
   },
   "file_extension": ".py",
   "mimetype": "text/x-python",
   "name": "python",
   "nbconvert_exporter": "python",
   "pygments_lexer": "ipython3",
   "version": "3.9.6"
  }
 },
 "nbformat": 4,
 "nbformat_minor": 4
}
