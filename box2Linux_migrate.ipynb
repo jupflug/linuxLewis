{
 "cells": [
  {
   "cell_type": "code",
   "execution_count": 2,
   "metadata": {},
   "outputs": [],
   "source": [
    "# prerequisites: \n",
    "# * install python-box software development kit (SDK) (https://developer.box.com/guides/tooling/sdks/python/)\n",
    "# * create a development application in box profile\n",
    "# * pull the client id, client secret from the development application and generate an access token\n",
    "# * fill out the user-defined entries below\n",
    "from boxsdk import OAuth2, Client"
   ]
  },
  {
   "cell_type": "code",
   "execution_count": 4,
   "metadata": {},
   "outputs": [],
   "source": [
    "# box developer authorization information\n",
    "auth = OAuth2(client_id='4stt8wd7hn5c19obxhh2kpnf7419pni6',\n",
    "              client_secret='UfS1HnLjbgGeQuh4dtIXBJRT2kVdQC4M',\n",
    "              access_token='wpdy3jvwBAeuR1GtfLbkr9wDh9ThgLc6')\n",
    "# directory to download files from (must be in the root directory)\n",
    "target_dir = 'Rocky_Pflug'\n",
    "# number of subdirectories (best-practice to set over the number)\n",
    "num_subdir = 3\n",
    "# destination directory to download to\n",
    "out = '/scratch/summit/jupf7869/'"
   ]
  },
  {
   "cell_type": "code",
   "execution_count": 17,
   "metadata": {},
   "outputs": [
    {
     "name": "stdout",
     "output_type": "stream",
     "text": [
      "N39_0W106_0_agg_16_FORCING_POST_WY1984_85.nc\n",
      "N39_0W106_0_agg_16_SWE_SCA_POST_WY1984_85.nc\n"
     ]
    }
   ],
   "source": [
    "# working code\n",
    "# do: iterative loop with while < num_subdir and tries \n",
    "# do: output to destination directory\n",
    "\n",
    "client = Client(auth)\n",
    "\n",
    "root_folder = client.root_folder().get()\n",
    "directories = root_folder.get_items()\n",
    "for directory in directories:\n",
    "    if directory.name == 'Rocky_Pflug':\n",
    "        tiles = directory.get_items()\n",
    "        for tile in tiles:\n",
    "            years = tile.get_items()\n",
    "            for year in years:\n",
    "                dsets = year.get_items()\n",
    "                for dset in dsets:\n",
    "                    print(dset.name)\n",
    "                    with open(dset.name,'wb') as open_file:\n",
    "                        client.file(dset.id).download_to(open_file)\n",
    "                break\n",
    "            break\n",
    "        break"
   ]
  }
 ],
 "metadata": {
  "kernelspec": {
   "display_name": "box2linux_migrate",
   "language": "python",
   "name": "box2linux_migrate"
  },
  "language_info": {
   "codemirror_mode": {
    "name": "ipython",
    "version": 3
   },
   "file_extension": ".py",
   "mimetype": "text/x-python",
   "name": "python",
   "nbconvert_exporter": "python",
   "pygments_lexer": "ipython3",
   "version": "3.9.6"
  }
 },
 "nbformat": 4,
 "nbformat_minor": 4
}
