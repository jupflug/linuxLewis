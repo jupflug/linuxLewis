{
 "cells": [
  {
   "cell_type": "code",
   "execution_count": 2,
   "metadata": {},
   "outputs": [],
   "source": [
    "# prerequisites: \n",
    "# * install python-box software development kit (SDK) (https://developer.box.com/guides/tooling/sdks/python/)\n",
    "# * create a development application in box profile\n",
    "# * pull the client id, client secret from the development application and generate an access token\n",
    "# * fill out the user-defined entries below\n",
    "from boxsdk import OAuth2, Client"
   ]
  },
  {
   "cell_type": "code",
   "execution_count": 4,
   "metadata": {},
   "outputs": [],
   "source": [
    "# box developer authorization information\n",
    "auth = OAuth2(client_id='4stt8wd7hn5c19obxhh2kpnf7419pni6',\n",
    "              client_secret='UfS1HnLjbgGeQuh4dtIXBJRT2kVdQC4M',\n",
    "              access_token='wpdy3jvwBAeuR1GtfLbkr9wDh9ThgLc6')\n",
    "# directory to download files from (must be in the root directory)\n",
    "target_dir = 'Rocky_Pflug'\n",
    "# number of subdirectories (best-practice to set over the number)\n",
    "num_subdir = 3\n",
    "# destination directory to download to\n",
    "out = '/scratch/summit/jupf7869/'"
   ]
  },
  {
   "cell_type": "code",
   "execution_count": 17,
   "metadata": {},
   "outputs": [
    {
     "name": "stdout",
     "output_type": "stream",
     "text": [
      "N39_0W106_0_agg_16_FORCING_POST_WY1984_85.nc\n",
      "N39_0W106_0_agg_16_SWE_SCA_POST_WY1984_85.nc\n"
     ]
    }
   ],
   "source": [
    "# working code\n",
    "# do: iterative loop with while < num_subdir and tries \n",
    "# do: output to destination directory\n",
    "\n",
    "client = Client(auth)\n",
    "\n",
    "root_folder = client.root_folder().get()\n",
    "directories = root_folder.get_items()\n",
    "for directory in directories:\n",
    "    if directory.name == 'Rocky_Pflug':\n",
    "        tiles = directory.get_items()\n",
    "        for tile in tiles:\n",
    "            years = tile.get_items()\n",
    "            for year in years:\n",
    "                dsets = year.get_items()\n",
    "                for dset in dsets:\n",
    "                    print(dset.name)\n",
    "                    with open(dset.name,'wb') as open_file:\n",
    "                        client.file(dset.id).download_to(open_file)\n",
    "                break\n",
    "            break\n",
    "        break"
   ]
  },
  {
   "cell_type": "code",
   "execution_count": null,
   "metadata": {},
   "outputs": [],
   "source": []
  },
  {
   "cell_type": "code",
   "execution_count": null,
   "metadata": {},
   "outputs": [],
   "source": []
  },
  {
   "cell_type": "code",
   "execution_count": 1,
   "metadata": {},
   "outputs": [
    {
     "ename": "ModuleNotFoundError",
     "evalue": "No module named 'boxMigrate'",
     "output_type": "error",
     "traceback": [
      "\u001b[0;31m---------------------------------------------------------------------------\u001b[0m",
      "\u001b[0;31mModuleNotFoundError\u001b[0m                       Traceback (most recent call last)",
      "\u001b[0;32m<ipython-input-1-93d88875e338>\u001b[0m in \u001b[0;36m<module>\u001b[0;34m\u001b[0m\n\u001b[0;32m----> 1\u001b[0;31m \u001b[0;32mfrom\u001b[0m \u001b[0mboxMigrate\u001b[0m \u001b[0;32mimport\u001b[0m \u001b[0mbox2Linux\u001b[0m\u001b[0;34m\u001b[0m\u001b[0;34m\u001b[0m\u001b[0m\n\u001b[0m\u001b[1;32m      2\u001b[0m \u001b[0mbox2Linux\u001b[0m\u001b[0;34m(\u001b[0m\u001b[0;34m'wpdy3jvwBAeuR1GtfLbkr9wDh9ThgLc6'\u001b[0m\u001b[0;34m)\u001b[0m\u001b[0;34m\u001b[0m\u001b[0;34m\u001b[0m\u001b[0m\n",
      "\u001b[0;31mModuleNotFoundError\u001b[0m: No module named 'boxMigrate'"
     ]
    }
   ],
   "source": [
    "from boxMigrate import box2Linux\n",
    "box2Linux('wpdy3jvwBAeuR1GtfLbkr9wDh9ThgLc6') "
   ]
  },
  {
   "cell_type": "code",
   "execution_count": 2,
   "metadata": {},
   "outputs": [
    {
     "name": "stdout",
     "output_type": "stream",
     "text": [
      "/home/jupf7869/Py_scripts/linuxLewis\n"
     ]
    }
   ],
   "source": [
    "! pwd"
   ]
  },
  {
   "cell_type": "code",
   "execution_count": 1,
   "metadata": {},
   "outputs": [],
   "source": [
    "import boxMigrate"
   ]
  },
  {
   "cell_type": "code",
   "execution_count": 2,
   "metadata": {},
   "outputs": [
    {
     "ename": "AttributeError",
     "evalue": "module 'boxMigrate' has no attribute 'box2Linux'",
     "output_type": "error",
     "traceback": [
      "\u001b[0;31m---------------------------------------------------------------------------\u001b[0m",
      "\u001b[0;31mAttributeError\u001b[0m                            Traceback (most recent call last)",
      "\u001b[0;32m<ipython-input-2-8cedd265c7cd>\u001b[0m in \u001b[0;36m<module>\u001b[0;34m\u001b[0m\n\u001b[0;32m----> 1\u001b[0;31m \u001b[0mboxMigrate\u001b[0m\u001b[0;34m.\u001b[0m\u001b[0mbox2Linux\u001b[0m\u001b[0;34m(\u001b[0m\u001b[0;34m'wpdy3jvwBAeuR1GtfLbkr9wDh9ThgLc6'\u001b[0m\u001b[0;34m)\u001b[0m\u001b[0;34m\u001b[0m\u001b[0;34m\u001b[0m\u001b[0m\n\u001b[0m",
      "\u001b[0;31mAttributeError\u001b[0m: module 'boxMigrate' has no attribute 'box2Linux'"
     ]
    }
   ],
   "source": [
    "boxMigrate.box2Linux('wpdy3jvwBAeuR1GtfLbkr9wDh9ThgLc6')"
   ]
  },
  {
   "cell_type": "code",
   "execution_count": 1,
   "metadata": {},
   "outputs": [],
   "source": [
    "import boxMigrate"
   ]
  },
  {
   "cell_type": "code",
   "execution_count": 4,
   "metadata": {},
   "outputs": [
    {
     "name": "stdout",
     "output_type": "stream",
     "text": [
      "<Box Folder - 0 (All Files)>\n"
     ]
    }
   ],
   "source": [
    "boxMigrate.boxMigrate.box2Linux('dXLB7F9arNYBD3H4THLLAu0raevpYaWU')"
   ]
  },
  {
   "cell_type": "code",
   "execution_count": null,
   "metadata": {},
   "outputs": [],
   "source": []
  },
  {
   "cell_type": "code",
   "execution_count": null,
   "metadata": {},
   "outputs": [],
   "source": []
  },
  {
   "cell_type": "code",
   "execution_count": 1,
   "metadata": {},
   "outputs": [],
   "source": [
    "from boxMigrate import boxMigrate\n",
    "\n",
    "id = '4stt8wd7hn5c19obxhh2kpnf7419pni6'\n",
    "secret = 'UfS1HnLjbgGeQuh4dtIXBJRT2kVdQC4M'\n",
    "token = 'rXvfJei3oNaO7WfZbRDzUMto0ODNKxNl'\n",
    "\n",
    "target_dir = 'Rocky_Pflug'\n",
    "\n",
    "subdirs = ['N40_0W106_0_agg_16','WY2020']\n",
    "\n",
    "out_path = '/scratch/summit/jupf7869/500m/'"
   ]
  },
  {
   "cell_type": "code",
   "execution_count": 2,
   "metadata": {},
   "outputs": [
    {
     "name": "stdout",
     "output_type": "stream",
     "text": [
      "<Box Folder - 142427205005 (Rocky_Pflug)>\n"
     ]
    }
   ],
   "source": [
    "client, root_directory = boxMigrate.target_directory(id,secret,token,target_dir)\n",
    "print(root_directory)"
   ]
  },
  {
   "cell_type": "code",
   "execution_count": 3,
   "metadata": {},
   "outputs": [],
   "source": [
    "boxMigrate.download_data(root_directory,subdirs,client,out_path)"
   ]
  },
  {
   "cell_type": "code",
   "execution_count": null,
   "metadata": {},
   "outputs": [],
   "source": [
    "# thin data by lat lon\n",
    "\n",
    "import netCDF4 as nc\n",
    "\n",
    "dset = ncout_path+'N40_0W106_0_agg_16_FORCING_POST_WY2019_20.nc'\n",
    "\n",
    "import netCDF4 as nc\n",
    "\n",
    "dset = nc.Dataset"
   ]
  },
  {
   "cell_type": "code",
   "execution_count": null,
   "metadata": {},
   "outputs": [],
   "source": []
  },
  {
   "cell_type": "code",
   "execution_count": null,
   "metadata": {},
   "outputs": [],
   "source": []
  },
  {
   "cell_type": "code",
   "execution_count": null,
   "metadata": {},
   "outputs": [],
   "source": []
  },
  {
   "cell_type": "code",
   "execution_count": 11,
   "metadata": {},
   "outputs": [
    {
     "name": "stdout",
     "output_type": "stream",
     "text": [
      "<Box Folder - 142430056195 (WY2020)>\n"
     ]
    }
   ],
   "source": [
    "print(folder)"
   ]
  },
  {
   "cell_type": "code",
   "execution_count": 12,
   "metadata": {},
   "outputs": [
    {
     "name": "stdout",
     "output_type": "stream",
     "text": [
      "<boxsdk.pagination.limit_offset_based_object_collection.LimitOffsetBasedObjectCollection object at 0x2af66e1fd910>\n"
     ]
    }
   ],
   "source": [
    "directories = folder.get_items()\n",
    "print(directories)"
   ]
  },
  {
   "cell_type": "code",
   "execution_count": 27,
   "metadata": {},
   "outputs": [
    {
     "name": "stdout",
     "output_type": "stream",
     "text": [
      "<Box Folder - 142429622570 (N39_0W106_0_agg_16)>\n",
      "<Box Folder - 142430661869 (N40_0W106_0_agg_16)>\n"
     ]
    }
   ],
   "source": [
    "for directory in directories:\n",
    "    print(directory)"
   ]
  },
  {
   "cell_type": "code",
   "execution_count": null,
   "metadata": {},
   "outputs": [],
   "source": []
  }
 ],
 "metadata": {
  "kernelspec": {
   "display_name": "box2linux_migrate",
   "language": "python",
   "name": "box2linux_migrate"
  },
  "language_info": {
   "codemirror_mode": {
    "name": "ipython",
    "version": 3
   },
   "file_extension": ".py",
   "mimetype": "text/x-python",
   "name": "python",
   "nbconvert_exporter": "python",
   "pygments_lexer": "ipython3",
   "version": "3.9.6"
  }
 },
 "nbformat": 4,
 "nbformat_minor": 4
}
